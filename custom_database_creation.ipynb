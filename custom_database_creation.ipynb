{
 "cells": [
  {
   "cell_type": "markdown",
   "metadata": {},
   "source": [
    "# Database creation\n",
    "\n",
    "This notebook is used to make custom databases for blasting. More details can be found [here](more details can be found here: https://biopython.org/docs/1.75/api/Bio.Blast.Applications.html)"
   ]
  },
  {
   "cell_type": "code",
   "execution_count": null,
   "metadata": {},
   "outputs": [],
   "source": [
    "from Bio.Blast.Applications import NcbimakeblastdbCommandline"
   ]
  },
  {
   "cell_type": "code",
   "execution_count": null,
   "metadata": {},
   "outputs": [],
   "source": [
    "#Specify your input fasta file that you want to use to build your database\n",
    "\n",
    "fasta_path = f\"input/transcriptome.fasta\"\n",
    "cline = NcbimakeblastdbCommandline(cmd='makeblastdb', dbtype='nucl', input_file=\"input/vulgaristranscriptome.fasta\")"
   ]
  },
  {
   "cell_type": "code",
   "execution_count": null,
   "metadata": {},
   "outputs": [],
   "source": [
    "#Run the command to make the database\n",
    "\n",
    "stdout, stderr = cline()"
   ]
  },
  {
   "cell_type": "code",
   "execution_count": null,
   "metadata": {},
   "outputs": [],
   "source": [
    "#Check your standard output\n",
    "\n",
    "print(stdout)"
   ]
  },
  {
   "cell_type": "code",
   "execution_count": null,
   "metadata": {},
   "outputs": [],
   "source": [
    "#Check your standard error\n",
    "\n",
    "print(stderr)"
   ]
  }
 ],
 "metadata": {
  "language_info": {
   "name": "python"
  },
  "orig_nbformat": 4
 },
 "nbformat": 4,
 "nbformat_minor": 2
}
