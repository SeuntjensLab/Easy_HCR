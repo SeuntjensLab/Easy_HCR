{
 "cells": [
  {
   "cell_type": "markdown",
   "metadata": {},
   "source": [
    "This notebook has the following dependencies. Make sure that these are installed in your environment when you launch this notebook.\n",
    "+ pandas\n",
    "+ biopython\n",
    "+ numpy\n",
    "+ openpyxl\n",
    "\n",
    "For more information refer to the [website](https://gitlab.com/NCDRlab/easy_hcr)"
   ]
  },
  {
   "cell_type": "code",
   "execution_count": 4,
   "metadata": {},
   "outputs": [],
   "source": [
    "import pandas as pd\n",
    "import numpy as np\n",
    "import csv\n",
    "from insitu_probe_generator.maker37cb import maker\n",
    "from insitu_probe_generator.start import start\n",
    "from Bio import SeqIO\n",
    "from Bio.Seq import Seq\n",
    "from Bio.SeqRecord import SeqRecord\n",
    "from Bio.Blast import NCBIXML"
   ]
  },
  {
   "cell_type": "code",
   "execution_count": 2,
   "metadata": {},
   "outputs": [],
   "source": [
    "# Set the quality control parameters for the probeset # if you do not want to remove the GC's you can write here 'False'\n",
    "\n",
    "remove_gc = True\n",
    "probepair_number_cutoff = 33\n",
    "blast_on_genome = True"
   ]
  },
  {
   "cell_type": "code",
   "execution_count": null,
   "metadata": {},
   "outputs": [],
   "source": [
    "# Run the probe generator\n",
    "\n",
    "strt = start()\n",
    "name,fullseq,amplifier,pause,choose,polyAT,polyCG,BlastProbes,db,dropout,show,report,maxprobe,numbr = strt[0],strt[1],strt[2],strt[3],strt[4],strt[5],strt[6],strt[7],strt[8],strt[9],strt[10],strt[11],strt[12],strt[13]\n",
    "string_output = maker(name,fullseq,amplifier,pause,choose,polyAT,polyCG,BlastProbes,db,dropout,show,report,maxprobe,numbr)"
   ]
  },
  {
   "cell_type": "code",
   "execution_count": null,
   "metadata": {},
   "outputs": [],
   "source": [
    "# Get and re-usethe parameters specified for the probe generator\n",
    "\n",
    "gene_name = name\n",
    "amplifier = amplifier\n",
    "\n",
    "print(\"Gene: \", gene_name)\n",
    "print(\"Amplifier: \", amplifier)"
   ]
  },
  {
   "cell_type": "code",
   "execution_count": null,
   "metadata": {},
   "outputs": [],
   "source": [
    "# Save the generated probes as CSV file\n",
    "\n",
    "csv_path = f\"output/{name}_probes.csv\"\n",
    "\n",
    "probe_file = open(csv_path, \"w\")\n",
    "n = probe_file.write(string_output)\n",
    "probe_file.close()\n",
    "\n",
    "# Read the csv back in as table\n",
    "\n",
    "df = pd.read_csv(\n",
    "    f\"output/{name}_probes.csv\",\n",
    "    index_col=0,\n",
    ")\n",
    "print(\"Gene: \", gene_name)\n",
    "print(\"Amplifier: \", amplifier)\n",
    "print(\"Probes:\")\n",
    "df.head()"
   ]
  },
  {
   "cell_type": "code",
   "execution_count": null,
   "metadata": {},
   "outputs": [],
   "source": [
    "# Generate probe identifiers\n",
    "\n",
    "probe_identifiers = [gene_name + \"_PP_\" + str(n + 1) for n,_ in enumerate(df.iterrows())]\n",
    "probe_identifiers = [f\"{gene_name}_{amplifier}_PP_{str(n + 1)}\" for n,_ in enumerate(df.iterrows())]\n",
    "df.index = probe_identifiers\n",
    "df.head()"
   ]
  },
  {
   "cell_type": "code",
   "execution_count": null,
   "metadata": {},
   "outputs": [],
   "source": [
    "# Check GC-ending probes for later\n",
    "# GC and the end for the forst probe and GC at the start for the second\n",
    "\n",
    "df[\"GC_QC\"] = df[\"Probe\"].str.endswith(\"GC\") | df[\"Probe\"].str.endswith(\"CG\") | df[\"Probe.1\"].str.startswith(\"GC\") | df[\"Probe.1\"].str.startswith(\"CG\")\n",
    "print(\"Number of probe pairs:\", len(df))\n",
    "print(f\"{len(df.loc[df.GC_QC == True])} GC probe pairs\")\n",
    "print(f\"Kept {len(df.loc[df.GC_QC != True])} no-GC probe pairs\")\n",
    "df\n"
   ]
  },
  {
   "cell_type": "code",
   "execution_count": null,
   "metadata": {},
   "outputs": [],
   "source": [
    "# Generate BLAST sequences\n",
    "\n",
    "df[\"blast\"] = df[\"Probe\"] + \"NN\" + df[\"Probe.1\"]\n",
    "df.head(20)"
   ]
  },
  {
   "cell_type": "code",
   "execution_count": null,
   "metadata": {},
   "outputs": [],
   "source": [
    "# Create a simple dataframes for BLAST\n",
    "\n",
    "df_blast = pd.DataFrame(df.index.values, columns=[\"Identifier\"])\n",
    "df_blast[\"Probe\"] = df.blast.values\n",
    "df_blast.to_csv(f\"output/{gene_name}_probes.txt\",sep='\\t',index=False,header=False, quoting=csv.QUOTE_NONE)\n",
    "df_blast.head()"
   ]
  },
  {
   "cell_type": "code",
   "execution_count": null,
   "metadata": {},
   "outputs": [],
   "source": [
    "# Generate a list of SeqRecord to write a fasta file\n",
    "\n",
    "probe_sequences = [SeqRecord(Seq(probe), id=id) for probe, id in zip(df_blast.Probe.values, df_blast.Identifier.values)]\n",
    "\n",
    "# Print first 5 as example\n",
    "probe_sequences[:5]"
   ]
  },
  {
   "cell_type": "code",
   "execution_count": null,
   "metadata": {},
   "outputs": [],
   "source": [
    "# Save fasta file in output folder (create this output folder in the same folder as the probe generator)\n",
    "\n",
    "fasta_path = f\"output/{gene_name}_to_blast.fasta\"\n",
    "\n",
    "with open(fasta_path, \"w\") as output_handle:\n",
    "    for record in probe_sequences:\n",
    "        SeqIO.write(record, output_handle, \"fasta\")"
   ]
  },
  {
   "cell_type": "code",
   "execution_count": null,
   "metadata": {
    "scrolled": true
   },
   "outputs": [],
   "source": [
    "# Load in blastn\n",
    "from Bio.Blast.Applications import NcbiblastnCommandline"
   ]
  },
  {
   "cell_type": "code",
   "execution_count": null,
   "metadata": {},
   "outputs": [
    {
     "data": {
      "text/plain": [
       "'output/OvTH_to_blast.fasta'"
      ]
     },
     "execution_count": 173,
     "metadata": {},
     "output_type": "execute_result"
    }
   ],
   "source": [
    "# Load query file\n",
    "fasta_string = fasta_path\n",
    "fasta_path"
   ]
  },
  {
   "cell_type": "code",
   "execution_count": null,
   "metadata": {},
   "outputs": [],
   "source": [
    "# Load custom database file\n",
    "db_path = \"input/vulgaristranscriptome.fasta\"\n",
    "\n",
    "#db_path = \"input/blast2go/vulgaristranscriptome.fasta\"\n",
    "db_string = db_path"
   ]
  },
  {
   "cell_type": "code",
   "execution_count": null,
   "metadata": {},
   "outputs": [],
   "source": [
    "# Path of the BLAST output\n",
    "\n",
    "blast_path = f\"output/{gene_name}_blast_output.xml\""
   ]
  },
  {
   "cell_type": "code",
   "execution_count": null,
   "metadata": {},
   "outputs": [],
   "source": [
    "# Set up blast with default parameters (word size needs to be specified due to short query length)\n",
    "cline = NcbiblastnCommandline (query = fasta_path, db = db_path, evalue = 0.05, out = blast_path, outfmt = 5, penalty = \"-3\", reward = \"2\", gapopen = \"5\", gapextend = \"2\", word_size = \"11\")"
   ]
  },
  {
   "cell_type": "code",
   "execution_count": null,
   "metadata": {},
   "outputs": [],
   "source": [
    "#less stringent blast (higher e-value - blast2go = 0.1)\n",
    "cline = NcbiblastnCommandline (query = fasta_path, db = db_path, evalue = 0.2, out = blast_path, outfmt = 5, word_size = \"11\")"
   ]
  },
  {
   "cell_type": "code",
   "execution_count": null,
   "metadata": {},
   "outputs": [
    {
     "name": "stdout",
     "output_type": "stream",
     "text": [
      "blastn -out output/OvTH_blast_output.xml -outfmt 5 -query output/OvTH_to_blast.fasta -db input/vulgaristranscriptome.fasta -evalue 0.2 -word_size 11\n"
     ]
    }
   ],
   "source": [
    "# Print blast command\n",
    "print(cline)"
   ]
  },
  {
   "cell_type": "code",
   "execution_count": null,
   "metadata": {},
   "outputs": [],
   "source": [
    "# Run blast\n",
    "stdout, stderr = cline()"
   ]
  },
  {
   "cell_type": "code",
   "execution_count": null,
   "metadata": {},
   "outputs": [
    {
     "name": "stdout",
     "output_type": "stream",
     "text": [
      "\n"
     ]
    }
   ],
   "source": [
    "# Check stdout\n",
    "print(stdout)"
   ]
  },
  {
   "cell_type": "code",
   "execution_count": null,
   "metadata": {},
   "outputs": [
    {
     "name": "stdout",
     "output_type": "stream",
     "text": [
      "\n"
     ]
    }
   ],
   "source": [
    "# Check stderr\n",
    "print(stderr)"
   ]
  },
  {
   "cell_type": "code",
   "execution_count": null,
   "metadata": {},
   "outputs": [],
   "source": [
    "result_handle = open(blast_path)"
   ]
  },
  {
   "cell_type": "code",
   "execution_count": null,
   "metadata": {},
   "outputs": [],
   "source": [
    "blast_records = list(NCBIXML.parse(result_handle))\n",
    "result_handle.close()"
   ]
  },
  {
   "cell_type": "code",
   "execution_count": null,
   "metadata": {},
   "outputs": [],
   "source": [
    "# Generate a table of blast results grouped per probe pair # you can check the transcript ids here\n",
    "\n",
    "queries = []\n",
    "names = []\n",
    "\n",
    "for record in blast_records:\n",
    "    for alignment in record.alignments:\n",
    "        queries.append(record.query.split(\" \")[0])\n",
    "        title = alignment.title\n",
    "        name_parts = title.split(\"|\")\n",
    "        names.append(name_parts[-1])\n",
    "        # print(name, hit_type)\n",
    "    \n",
    "\n",
    "df_blast_results = pd.DataFrame(queries, columns=[\"Probe\"])\n",
    "df_blast_results[\"Name\"] = names\n",
    "#df_blast_results[\"Type\"] = types\n",
    "df_blast_results"
   ]
  },
  {
   "cell_type": "code",
   "execution_count": null,
   "metadata": {},
   "outputs": [],
   "source": [
    "# Analyse blast results - shows the number of hits per probe pair\n",
    "df_hits = pd.DataFrame(df_blast_results.Probe.value_counts())\n",
    "df_hits.index = pd.Series(df_hits.index.values).str.split(\" \", expand=True)[0]\n",
    "df_hits = df_hits.rename(columns={\"Probe\":\"n_hits\"})\n",
    "\n",
    "df_hits"
   ]
  },
  {
   "cell_type": "code",
   "execution_count": null,
   "metadata": {},
   "outputs": [],
   "source": [
    "# Removal of all probes that have more hits than the number of transcripts\n",
    "# In this case we removed all probes that have more than 3 hits\n",
    "\n",
    "hit_threshold = 2\n",
    "\n",
    "to_exclude = df_hits.loc[df_hits.n_hits > hit_threshold].index.values.tolist()\n",
    "\n",
    "print(\"Probes to remove:\")\n",
    "print(to_exclude)"
   ]
  },
  {
   "cell_type": "code",
   "execution_count": null,
   "metadata": {},
   "outputs": [],
   "source": [
    "# If you want to manually remove additional probes you can paste the name between the brackets\n",
    "# This cell generates the list of the probes that need to be removed\n",
    "\n",
    "manual_exclude = [\n",
    "    \n",
    "]\n",
    "\n",
    "probes_to_remove = to_exclude + manual_exclude\n",
    "\n",
    "probes_to_remove"
   ]
  },
  {
   "cell_type": "code",
   "execution_count": null,
   "metadata": {},
   "outputs": [],
   "source": [
    "# Remove unwanted probes\n",
    "\n",
    "on_topic_indexes = [n for n, probe in enumerate(df.index.values) if probe not in probes_to_remove]\n",
    "df_qc_blast = df.iloc[on_topic_indexes]\n",
    "print(f\"{len(on_topic_indexes)} probes kept:\\n\", df_qc_blast.index.unique().values)\n",
    "\n",
    "df_qc_blast.head()"
   ]
  },
  {
   "cell_type": "code",
   "execution_count": null,
   "metadata": {},
   "outputs": [],
   "source": [
    "# Remove probes ending in GC or CG\n",
    "\n",
    "if remove_gc == True:\n",
    "    orig_number = len(df_qc_blast)\n",
    "    print(\"Number of probe pairs:\", orig_number)\n",
    "    df_qc_blast = df_qc_blast.loc[df_qc_blast.GC_QC != True]\n",
    "    print(f\"Removed {orig_number - len(df_qc_blast)} probe pairs\")\n",
    "    print(f\"Preserved {len(df_qc_blast)} no-GC probe pairs\")\n",
    "    df_qc_blast"
   ]
  },
  {
   "cell_type": "code",
   "execution_count": null,
   "metadata": {},
   "outputs": [],
   "source": [
    "# If there are more than 50 probe pairs, keep only the odd rows, otherwise cut off at the specified amount\n",
    "\n",
    "n_probes = len(df_qc_blast)\n",
    "print(\"Total number of probes: \", n_probes)\n",
    "\n",
    "if len(df_qc_blast.iloc[::2]) > 25:\n",
    "    df_qc_blast = df_qc_blast.iloc[::2]\n",
    "    print(f\"Kept odd rows ({len(df_qc_blast)} probes)\")\n",
    "\n",
    "df_qc_blast = df_qc_blast.iloc[:probepair_number_cutoff]\n",
    "\n",
    "new_length = len(df_qc_blast)\n",
    "n_probes = new_length\n",
    "print(\"Number of kept probes: \", n_probes)"
   ]
  },
  {
   "cell_type": "code",
   "execution_count": null,
   "metadata": {},
   "outputs": [],
   "source": [
    "# Generate IDT order form\n",
    "\n",
    "df_idt = pd.DataFrame(columns=[\"Pool name\", \"Sequence\"])\n",
    "for name, row in df_qc_blast.iterrows():\n",
    "    name_parts = row.name.split(\"_\")\n",
    "    df_idt = df_idt.append({\n",
    "        \"Pool name\": \"_\".join(name_parts[:-2]) + f\"_{n_probes}PP\",\n",
    "        \"Sequence\": row.Initiator + row.Spacer.upper() + row.Probe\n",
    "    },\n",
    "    ignore_index=True)\n",
    "    df_idt = df_idt.append({\n",
    "        \"Pool name\": \"_\".join(name_parts[:-2]) + f\"_{n_probes}PP\",\n",
    "        \"Sequence\": row[\"Probe.1\"] + row[\"Spacer.1\"].upper() + row[\"Initiator.1\"]\n",
    "    },\n",
    "    ignore_index=True)\n",
    "print(f\"Generated an order of {len(df_qc_blast)} probe pairs ({len(df_idt)} oligos)\")\n",
    "df_idt"
   ]
  },
  {
   "cell_type": "code",
   "execution_count": null,
   "metadata": {},
   "outputs": [],
   "source": [
    "# Export order form\n",
    "\n",
    "idt_path = f\"output/{gene_name}_idt_order.xlsx\"\n",
    "\n",
    "df_idt.to_excel(idt_path, index=False)"
   ]
  }
 ],
 "metadata": {
  "interpreter": {
   "hash": "271eccfb807006fd346eb79cea7b5cd857c48835933c4f9012a0ac13a5d57e29"
  },
  "kernelspec": {
   "display_name": "Python 3",
   "language": "python",
   "name": "python3"
  },
  "language_info": {
   "codemirror_mode": {
    "name": "ipython",
    "version": 3
   },
   "file_extension": ".py",
   "mimetype": "text/x-python",
   "name": "python",
   "nbconvert_exporter": "python",
   "pygments_lexer": "ipython3",
   "version": "3.8.11"
  }
 },
 "nbformat": 4,
 "nbformat_minor": 2
}
