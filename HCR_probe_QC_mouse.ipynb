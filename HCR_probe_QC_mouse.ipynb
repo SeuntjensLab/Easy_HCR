{
 "cells": [
  {
   "cell_type": "markdown",
   "metadata": {},
   "source": [
    "# This notebook is still work in progress!\n",
    "\n",
    "This notebook has the following dependencies. Make sure that these are installed in your environment when you launch this notebook.\n",
    "+ pandas\n",
    "+ biopython\n",
    "+ numpy\n",
    "+ openpyxl\n",
    "\n",
    "For more information refer to the [website](https://gitlab.com/NCDRlab/easy_hcr)"
   ]
  },
  {
   "cell_type": "code",
   "execution_count": 1,
   "metadata": {},
   "outputs": [],
   "source": [
    "import pandas as pd\n",
    "import numpy as np\n",
    "import csv\n",
    "from insitu_probe_generator.maker37cb import maker\n",
    "from insitu_probe_generator.start import start\n",
    "from Bio import SeqIO\n",
    "from Bio.Seq import Seq\n",
    "from Bio.SeqRecord import SeqRecord\n",
    "from Bio.Blast import NCBIXML"
   ]
  },
  {
   "cell_type": "code",
   "execution_count": 2,
   "metadata": {},
   "outputs": [],
   "source": [
    "# Set the quality control parameters for the probeset\n",
    "remove_gc = False\n",
    "probepair_number_cutoff = 33\n",
    "blast_on_genome = True"
   ]
  },
  {
   "cell_type": "code",
   "execution_count": null,
   "metadata": {},
   "outputs": [],
   "source": [
    "strt = start()\n",
    "name,fullseq,amplifier,pause,choose,polyAT,polyCG,BlastProbes,db,dropout,show,report,maxprobe,numbr = strt[0],strt[1],strt[2],strt[3],strt[4],strt[5],strt[6],strt[7],strt[8],strt[9],strt[10],strt[11],strt[12],strt[13]\n",
    "string_output = maker(name,fullseq,amplifier,pause,choose,polyAT,polyCG,BlastProbes,db,dropout,show,report,maxprobe,numbr)"
   ]
  },
  {
   "cell_type": "code",
   "execution_count": null,
   "metadata": {},
   "outputs": [],
   "source": [
    "# Get and re-usethe parameters specified for the probe generator\n",
    "\n",
    "gene_name = name\n",
    "amplifier = amplifier\n",
    "\n",
    "print(\"Gene: \", gene_name)\n",
    "print(\"Amplifier: \", amplifier)"
   ]
  },
  {
   "cell_type": "code",
   "execution_count": null,
   "metadata": {},
   "outputs": [],
   "source": [
    "# Save the generated probes as CSV file\n",
    "\n",
    "csv_path = f\"output/{name}_probes.csv\"\n",
    "\n",
    "probe_file = open(csv_path, \"w\")\n",
    "n = probe_file.write(string_output)\n",
    "probe_file.close()\n",
    "\n",
    "# Read the csv back in as table\n",
    "\n",
    "df = pd.read_csv(\n",
    "    f\"output/{name}_probes.csv\",\n",
    "    index_col=0,\n",
    ")\n",
    "print(\"Gene: \", gene_name)\n",
    "print(\"Amplifier: \", amplifier)\n",
    "print(\"Probes:\")\n",
    "df.head()"
   ]
  },
  {
   "cell_type": "code",
   "execution_count": null,
   "metadata": {},
   "outputs": [],
   "source": [
    "# Generate probe identifiers\n",
    "\n",
    "probe_identifiers = [gene_name + \"_PP_\" + str(n + 1) for n,_ in enumerate(df.iterrows())]\n",
    "probe_identifiers = [f\"{gene_name}_{amplifier}_PP_{str(n + 1)}\" for n,_ in enumerate(df.iterrows())]\n",
    "df.index = probe_identifiers\n",
    "df.head()"
   ]
  },
  {
   "cell_type": "code",
   "execution_count": null,
   "metadata": {},
   "outputs": [],
   "source": [
    "# Check GC-ending probes for later\n",
    "# GC and the end for the forst probe and GC at the start for the second\n",
    "\n",
    "df[\"GC_QC\"] = df[\"Probe\"].str.endswith(\"GC\") | df[\"Probe\"].str.endswith(\"CG\") | df[\"Probe.1\"].str.startswith(\"GC\") | df[\"Probe.1\"].str.startswith(\"CG\")\n",
    "print(\"Number of probe pairs:\", len(df))\n",
    "print(f\"{len(df.loc[df.GC_QC == True])} GC probe pairs\")\n",
    "print(f\"Kept {len(df.loc[df.GC_QC != True])} no-GC probe pairs\")\n",
    "df\n"
   ]
  },
  {
   "cell_type": "code",
   "execution_count": 8,
   "metadata": {},
   "outputs": [
    {
     "data": {
      "text/html": [
       "<div>\n",
       "<style scoped>\n",
       "    .dataframe tbody tr th:only-of-type {\n",
       "        vertical-align: middle;\n",
       "    }\n",
       "\n",
       "    .dataframe tbody tr th {\n",
       "        vertical-align: top;\n",
       "    }\n",
       "\n",
       "    .dataframe thead th {\n",
       "        text-align: right;\n",
       "    }\n",
       "</style>\n",
       "<table border=\"1\" class=\"dataframe\">\n",
       "  <thead>\n",
       "    <tr style=\"text-align: right;\">\n",
       "      <th></th>\n",
       "      <th>Initiator</th>\n",
       "      <th>Spacer</th>\n",
       "      <th>Probe</th>\n",
       "      <th>Probe.1</th>\n",
       "      <th>Spacer.1</th>\n",
       "      <th>Initiator.1</th>\n",
       "      <th>GC_QC</th>\n",
       "      <th>blast</th>\n",
       "    </tr>\n",
       "  </thead>\n",
       "  <tbody>\n",
       "    <tr>\n",
       "      <th>Lyve1_B1_PP_1</th>\n",
       "      <td>GAGGAGGGCAGCAAACGG</td>\n",
       "      <td>aa</td>\n",
       "      <td>GCGGCAGCACCAAAGAAGAGGAGAG</td>\n",
       "      <td>CTTTTCACGTAGCAAACAGCCAGCA</td>\n",
       "      <td>ta</td>\n",
       "      <td>GAAGAGTCTTCCTTTACG</td>\n",
       "      <td>False</td>\n",
       "      <td>GCGGCAGCACCAAAGAAGAGGAGAGXXCTTTTCACGTAGCAAACAG...</td>\n",
       "    </tr>\n",
       "    <tr>\n",
       "      <th>Lyve1_B1_PP_2</th>\n",
       "      <td>GAGGAGGGCAGCAAACGG</td>\n",
       "      <td>aa</td>\n",
       "      <td>CAAACCCAGCTGCTTCGTTCTTGAA</td>\n",
       "      <td>GCACCAGCAGGGCGGTGGGGACACC</td>\n",
       "      <td>ta</td>\n",
       "      <td>GAAGAGTCTTCCTTTACG</td>\n",
       "      <td>True</td>\n",
       "      <td>CAAACCCAGCTGCTTCGTTCTTGAAXXGCACCAGCAGGGCGGTGGG...</td>\n",
       "    </tr>\n",
       "    <tr>\n",
       "      <th>Lyve1_B1_PP_3</th>\n",
       "      <td>GAGGAGGGCAGCAAACGG</td>\n",
       "      <td>aa</td>\n",
       "      <td>TTCTGTAGCCATGGTGATAGGTTCT</td>\n",
       "      <td>TGCTCCACTTGCAACAAATGCTTCT</td>\n",
       "      <td>ta</td>\n",
       "      <td>GAAGAGTCTTCCTTTACG</td>\n",
       "      <td>False</td>\n",
       "      <td>TTCTGTAGCCATGGTGATAGGTTCTXXTGCTCCACTTGCAACAAAT...</td>\n",
       "    </tr>\n",
       "    <tr>\n",
       "      <th>Lyve1_B1_PP_4</th>\n",
       "      <td>GAGGAGGGCAGCAAACGG</td>\n",
       "      <td>aa</td>\n",
       "      <td>AAGGTGGAGCCCGGGTGGTGGCAGA</td>\n",
       "      <td>TTTTTGTCTTCCGTGCCATGGAGGT</td>\n",
       "      <td>ta</td>\n",
       "      <td>GAAGAGTCTTCCTTTACG</td>\n",
       "      <td>False</td>\n",
       "      <td>AAGGTGGAGCCCGGGTGGTGGCAGAXXTTTTTGTCTTCCGTGCCAT...</td>\n",
       "    </tr>\n",
       "    <tr>\n",
       "      <th>Lyve1_B1_PP_5</th>\n",
       "      <td>GAGGAGGGCAGCAAACGG</td>\n",
       "      <td>aa</td>\n",
       "      <td>CAAGTAGGCGCTGCTGCTGACAGAA</td>\n",
       "      <td>AGGTGTTGTGGAGTCAGGGGATGAA</td>\n",
       "      <td>ta</td>\n",
       "      <td>GAAGAGTCTTCCTTTACG</td>\n",
       "      <td>False</td>\n",
       "      <td>CAAGTAGGCGCTGCTGCTGACAGAAXXAGGTGTTGTGGAGTCAGGG...</td>\n",
       "    </tr>\n",
       "  </tbody>\n",
       "</table>\n",
       "</div>"
      ],
      "text/plain": [
       "                        Initiator Spacer                      Probe                    Probe.1 Spacer.1         Initiator.1  GC_QC                                              blast\n",
       "Lyve1_B1_PP_1  GAGGAGGGCAGCAAACGG     aa  GCGGCAGCACCAAAGAAGAGGAGAG  CTTTTCACGTAGCAAACAGCCAGCA       ta  GAAGAGTCTTCCTTTACG  False  GCGGCAGCACCAAAGAAGAGGAGAGXXCTTTTCACGTAGCAAACAG...\n",
       "Lyve1_B1_PP_2  GAGGAGGGCAGCAAACGG     aa  CAAACCCAGCTGCTTCGTTCTTGAA  GCACCAGCAGGGCGGTGGGGACACC       ta  GAAGAGTCTTCCTTTACG   True  CAAACCCAGCTGCTTCGTTCTTGAAXXGCACCAGCAGGGCGGTGGG...\n",
       "Lyve1_B1_PP_3  GAGGAGGGCAGCAAACGG     aa  TTCTGTAGCCATGGTGATAGGTTCT  TGCTCCACTTGCAACAAATGCTTCT       ta  GAAGAGTCTTCCTTTACG  False  TTCTGTAGCCATGGTGATAGGTTCTXXTGCTCCACTTGCAACAAAT...\n",
       "Lyve1_B1_PP_4  GAGGAGGGCAGCAAACGG     aa  AAGGTGGAGCCCGGGTGGTGGCAGA  TTTTTGTCTTCCGTGCCATGGAGGT       ta  GAAGAGTCTTCCTTTACG  False  AAGGTGGAGCCCGGGTGGTGGCAGAXXTTTTTGTCTTCCGTGCCAT...\n",
       "Lyve1_B1_PP_5  GAGGAGGGCAGCAAACGG     aa  CAAGTAGGCGCTGCTGCTGACAGAA  AGGTGTTGTGGAGTCAGGGGATGAA       ta  GAAGAGTCTTCCTTTACG  False  CAAGTAGGCGCTGCTGCTGACAGAAXXAGGTGTTGTGGAGTCAGGG..."
      ]
     },
     "execution_count": 8,
     "metadata": {},
     "output_type": "execute_result"
    }
   ],
   "source": [
    "# Generate BLAST sequences\n",
    "\n",
    "df[\"blast\"] = df[\"Probe\"] + \"XX\" + df[\"Probe.1\"]\n",
    "df.head()"
   ]
  },
  {
   "cell_type": "code",
   "execution_count": null,
   "metadata": {},
   "outputs": [],
   "source": [
    "# Create a simple dataframes for BLAST\n",
    "\n",
    "df_blast = pd.DataFrame(df.index.values, columns=[\"Identifier\"])\n",
    "df_blast[\"Probe\"] = df.blast.values\n",
    "df_blast.to_csv(f\"output/{gene_name}_probes.txt\",sep='\\t',index=False,header=False, quoting=csv.QUOTE_NONE)\n",
    "df_blast.head()"
   ]
  },
  {
   "cell_type": "code",
   "execution_count": null,
   "metadata": {},
   "outputs": [],
   "source": [
    "# Generate a list of SeqRecord to write a fasta file\n",
    "\n",
    "probe_sequences = [SeqRecord(Seq(probe), id=id) for probe, id in zip(df_blast.Probe.values, df_blast.Identifier.values)]\n",
    "\n",
    "# Print first 5 as example\n",
    "probe_sequences[:5]"
   ]
  },
  {
   "cell_type": "code",
   "execution_count": 12,
   "metadata": {},
   "outputs": [],
   "source": [
    "# Save fast file in output folder\n",
    "\n",
    "fasta_path = f\"output/{gene_name}_to_blast.fasta\"\n",
    "\n",
    "with open(fasta_path, \"w\") as output_handle:\n",
    "    for record in probe_sequences:\n",
    "        SeqIO.write(record, output_handle, \"fasta\")"
   ]
  },
  {
   "cell_type": "code",
   "execution_count": 13,
   "metadata": {},
   "outputs": [],
   "source": [
    "# Run BLAST (still to implement)\n",
    "\n",
    "# from Bio.Blast import NCBIWWW\n",
    "# fasta_string = open(fasta_path).read()\n",
    "# result_handle = NCBIWWW.qblast(\"blastn\", \"refseq_rna\", fasta_string)"
   ]
  },
  {
   "cell_type": "code",
   "execution_count": 14,
   "metadata": {},
   "outputs": [],
   "source": [
    "# Path of the BLAST output\n",
    "\n",
    "blast_path = f\"output/{gene_name}_blast_output.xml\""
   ]
  },
  {
   "cell_type": "code",
   "execution_count": 16,
   "metadata": {},
   "outputs": [],
   "source": [
    "result_handle = open(blast_path)"
   ]
  },
  {
   "cell_type": "code",
   "execution_count": 17,
   "metadata": {},
   "outputs": [],
   "source": [
    "blast_records = list(NCBIXML.parse(result_handle))\n",
    "result_handle.close()"
   ]
  },
  {
   "cell_type": "code",
   "execution_count": null,
   "metadata": {},
   "outputs": [],
   "source": [
    "# Show first entry as example\n",
    "\n",
    "for alignment in blast_records[0].alignments:\n",
    "    print(alignment)"
   ]
  },
  {
   "cell_type": "code",
   "execution_count": 19,
   "metadata": {},
   "outputs": [],
   "source": [
    "# #Show all entries\n",
    "# for record in blast_records:\n",
    "#     for alignment in record.alignments:\n",
    "#         print(alignment)"
   ]
  },
  {
   "cell_type": "code",
   "execution_count": null,
   "metadata": {},
   "outputs": [],
   "source": [
    "# Generate a table of results\n",
    "\n",
    "queries = []\n",
    "names = []\n",
    "types = []\n",
    "\n",
    "for record in blast_records:\n",
    "    for alignment in record.alignments:\n",
    "        queries.append(record.query)\n",
    "        title = alignment.title\n",
    "        _, name = title.split(\"| \")\n",
    "        name_parts = name.split(\", \")\n",
    "        hit_type = name_parts[-1].split(\".\")[0]\n",
    "        hit_type = \"DNA\" if hit_type != \"mRNA\" else \"mRNA\"\n",
    "        types.append(hit_type)\n",
    "        name = \", \".join(name_parts[0:-1])\n",
    "        names.append(name)\n",
    "        # print(name, hit_type)\n",
    "    \n",
    "\n",
    "df_blast_results = pd.DataFrame(queries, columns=[\"Probe\"])\n",
    "df_blast_results[\"Name\"] = names\n",
    "df_blast_results[\"Type\"] = types\n",
    "df_blast_results.head()"
   ]
  },
  {
   "cell_type": "code",
   "execution_count": 21,
   "metadata": {},
   "outputs": [
    {
     "name": "stdout",
     "output_type": "stream",
     "text": [
      "List of mRNA hits:\n",
      "\n",
      "Mus musculus lymphatic vessel endothelial hyaluronan receptor 1 (Lyve1)    15\n",
      "Name: Name, dtype: int64\n",
      "\n",
      "True hit:\n",
      " Mus musculus lymphatic vessel endothelial hyaluronan receptor 1 (Lyve1)\n"
     ]
    }
   ],
   "source": [
    "# Check unique RNA hits\n",
    "\n",
    "# TODO\n",
    "#   Filter out predicted (maybe no) > label it\n",
    "#   Filter out other genes\n",
    "#   Not filter correct gene + predicted\n",
    "\n",
    "print(\"List of mRNA hits:\\n\")\n",
    "type_counts = df_blast_results.loc[df_blast_results.Type == \"mRNA\"].Name.value_counts()\n",
    "print(type_counts)\n",
    "max_count = type_counts.argmax()\n",
    "true_hit_rna = type_counts.index.values[max_count]\n",
    "print(\"\\nTrue hit:\\n\", true_hit_rna)"
   ]
  },
  {
   "cell_type": "code",
   "execution_count": null,
   "metadata": {},
   "outputs": [],
   "source": [
    "# Display off-topic predicted binding\n",
    "\n",
    "other_genes = [name for i, name in enumerate(type_counts.index) if gene_name not in name]\n",
    "other_genes"
   ]
  },
  {
   "cell_type": "code",
   "execution_count": null,
   "metadata": {},
   "outputs": [],
   "source": [
    "probes_to_remove_rna = []\n",
    "\n",
    "for name, row in df_blast_results.iterrows():\n",
    "    if row.Name in other_genes:\n",
    "        probes_to_remove_rna.append(row.Probe)\n",
    "\n",
    "probes_to_remove_rna = pd.Series(probes_to_remove_rna).unique()\n",
    "probes_to_remove_rna"
   ]
  },
  {
   "cell_type": "code",
   "execution_count": null,
   "metadata": {},
   "outputs": [],
   "source": [
    "# Check unique DNA hits\n",
    "\n",
    "if blast_on_genome:\n",
    "    print(\"List of DNA hits:\\n\")\n",
    "    name_counts = df_blast_results.loc[df_blast_results.Type == \"DNA\"].Name.value_counts()\n",
    "    print(name_counts)\n",
    "    max_count = name_counts.argmax()\n",
    "    true_hit_dna = name_counts.index.values[max_count]\n",
    "    print(\"\\nTrue hit: \", true_hit_dna)"
   ]
  },
  {
   "cell_type": "code",
   "execution_count": null,
   "metadata": {},
   "outputs": [],
   "source": [
    "# List of hits to remove\n",
    "\n",
    "if blast_on_genome:\n",
    "    print(\"Hits to remove\")\n",
    "    df_dna_outliers = df_blast_results.loc[df_blast_results.Type == \"DNA\"].loc[df_blast_results.Name != true_hit_dna]\n",
    "    probes_to_remove_dna = df_dna_outliers.Probe.unique()\n",
    "    df_dna_outliers"
   ]
  },
  {
   "cell_type": "code",
   "execution_count": null,
   "metadata": {},
   "outputs": [],
   "source": [
    "# List of probes to remove\n",
    "\n",
    "if blast_on_genome:\n",
    "    probes_to_remove = pd.Series(probes_to_remove_rna.tolist() + probes_to_remove_dna.tolist()).unique()\n",
    "else:\n",
    "    probes_to_remove = pd.Series(probes_to_remove_rna.tolist()).unique()\n",
    "probes_to_remove"
   ]
  },
  {
   "cell_type": "code",
   "execution_count": null,
   "metadata": {},
   "outputs": [],
   "source": [
    "# Remove unwanted probes\n",
    "\n",
    "on_topic_indexes = [n for n, probe in enumerate(df.index.values) if probe not in probes_to_remove]\n",
    "df_qc_blast = df.iloc[on_topic_indexes]\n",
    "print(f\"{len(on_topic_indexes)} probes kept:\\n\", df_qc_blast.index.unique().values)\n",
    "\n",
    "df_qc_blast.head()"
   ]
  },
  {
   "cell_type": "code",
   "execution_count": 28,
   "metadata": {},
   "outputs": [],
   "source": [
    "## OPTIONAL\n",
    "# Remove probes ending in GC or CG\n",
    "\n",
    "if remove_gc == True:\n",
    "    orig_number = len(df_qc_blast)\n",
    "    print(\"Number of probe pairs:\", orig_number)\n",
    "    df_qc_blast = df_qc_blast.loc[df_qc_blast.GC_QC != True]\n",
    "    print(f\"Removed {orig_number - len(df_qc_blast)} probe pairs\")\n",
    "    print(f\"Preserved {len(df_qc_blast)} no-GC probe pairs\")\n",
    "    df_qc_blast"
   ]
  },
  {
   "cell_type": "code",
   "execution_count": null,
   "metadata": {},
   "outputs": [],
   "source": [
    "# If there are more than 50 probe pairs, keep only the odd rows, otherwise cut off at the specified amount\n",
    "\n",
    "n_probes = len(df_qc_blast)\n",
    "print(\"Total number of probes: \", n_probes)\n",
    "\n",
    "if len(df_qc_blast.iloc[::2]) > 25:\n",
    "    df_qc_blast = df_qc_blast.iloc[::2]\n",
    "    print(f\"Kept odd rows ({len(df_qc_blast)} probes)\")\n",
    "\n",
    "df_qc_blast = df_qc_blast.iloc[:probepair_number_cutoff]\n",
    "\n",
    "new_length = len(df_qc_blast)\n",
    "n_probes = new_length\n",
    "print(\"Number of kept probes: \", n_probes)"
   ]
  },
  {
   "cell_type": "code",
   "execution_count": null,
   "metadata": {},
   "outputs": [],
   "source": [
    "# Generate IDT order form\n",
    "\n",
    "df_idt = pd.DataFrame(columns=[\"Pool name\", \"Sequence\"])\n",
    "for name, row in df_qc_blast.iterrows():\n",
    "    name_parts = row.name.split(\"_\")\n",
    "    df_idt = df_idt.append({\n",
    "        \"Pool name\": \"_\".join(name_parts[:-2]) + f\"_{n_probes}PP\",\n",
    "        \"Sequence\": row.Initiator + row.Spacer.upper() + row.Probe\n",
    "    },\n",
    "    ignore_index=True)\n",
    "    df_idt = df_idt.append({\n",
    "        \"Pool name\": \"_\".join(name_parts[:-2]) + f\"_{n_probes}PP\",\n",
    "        \"Sequence\": row[\"Probe.1\"] + row[\"Spacer.1\"].upper() + row[\"Initiator.1\"]\n",
    "    },\n",
    "    ignore_index=True)\n",
    "print(f\"Generated an order of {len(df_qc_blast)} probe pairs ({len(df_idt)} oligos)\")\n",
    "df_idt"
   ]
  },
  {
   "cell_type": "code",
   "execution_count": 31,
   "metadata": {},
   "outputs": [],
   "source": [
    "# Export order form\n",
    "\n",
    "idt_path = f\"output/{gene_name}_idt_order.xlsx\"\n",
    "\n",
    "df_idt.to_excel(idt_path, index=False)"
   ]
  }
 ],
 "metadata": {
  "interpreter": {
   "hash": "271eccfb807006fd346eb79cea7b5cd857c48835933c4f9012a0ac13a5d57e29"
  },
  "kernelspec": {
   "display_name": "Python 3",
   "language": "python",
   "name": "python3"
  },
  "language_info": {
   "codemirror_mode": {
    "name": "ipython",
    "version": 3
   },
   "file_extension": ".py",
   "mimetype": "text/x-python",
   "name": "python",
   "nbconvert_exporter": "python",
   "pygments_lexer": "ipython3",
   "version": "3.8.8"
  }
 },
 "nbformat": 4,
 "nbformat_minor": 2
}
